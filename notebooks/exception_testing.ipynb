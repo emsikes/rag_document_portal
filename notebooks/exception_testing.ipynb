{
 "cells": [
  {
   "cell_type": "code",
   "execution_count": 8,
   "id": "a05e9123",
   "metadata": {},
   "outputs": [],
   "source": [
    "import sys\n",
    "import traceback\n",
    "from logger.custom_logger import CustomLogger"
   ]
  },
  {
   "cell_type": "code",
   "execution_count": 13,
   "id": "3074ed15",
   "metadata": {},
   "outputs": [],
   "source": [
    "# Use the name \"exception_experiment here only - __file__ won't be inputed in a jupyter notebook\"\n",
    "\n",
    "logger = CustomLogger().get_logger(\"exception_experiment\")"
   ]
  },
  {
   "cell_type": "code",
   "execution_count": 14,
   "id": "b25b700f",
   "metadata": {},
   "outputs": [
    {
     "ename": "DocumentPortalException",
     "evalue": "\n            Error in [C:\\Users\\cloud\\AppData\\Local\\Temp\\ipykernel_93404\\3402926568.py] at line [21]\n            Message: division by zero\n            Traceback (most recent call last):\n  File \"C:\\Users\\cloud\\AppData\\Local\\Temp\\ipykernel_93404\\3402926568.py\", line 21, in <module>\n    a = 1 / 0 # simulate a zero division exception\nZeroDivisionError: division by zero\n\n        ",
     "output_type": "error",
     "traceback": [
      "\u001b[1;31m---------------------------------------------------------------------------\u001b[0m",
      "\u001b[1;31mZeroDivisionError\u001b[0m                         Traceback (most recent call last)",
      "Cell \u001b[1;32mIn[14], line 21\u001b[0m\n\u001b[0;32m     20\u001b[0m \u001b[38;5;28;01mtry\u001b[39;00m:\n\u001b[1;32m---> 21\u001b[0m     a \u001b[38;5;241m=\u001b[39m \u001b[38;5;241;43m1\u001b[39;49m\u001b[43m \u001b[49m\u001b[38;5;241;43m/\u001b[39;49m\u001b[43m \u001b[49m\u001b[38;5;241;43m0\u001b[39;49m \u001b[38;5;66;03m# simulate a zero division exception\u001b[39;00m\n\u001b[0;32m     22\u001b[0m \u001b[38;5;28;01mexcept\u001b[39;00m \u001b[38;5;167;01mException\u001b[39;00m \u001b[38;5;28;01mas\u001b[39;00m e:\n",
      "\u001b[1;31mZeroDivisionError\u001b[0m: division by zero",
      "\nDuring handling of the above exception, another exception occurred:\n",
      "\u001b[1;31mDocumentPortalException\u001b[0m                   Traceback (most recent call last)",
      "Cell \u001b[1;32mIn[14], line 26\u001b[0m\n\u001b[0;32m     23\u001b[0m app_exc \u001b[38;5;241m=\u001b[39m DocumentPortalException(e,sys)\n\u001b[0;32m     24\u001b[0m logger\u001b[38;5;241m.\u001b[39merror(app_exc)\n\u001b[1;32m---> 26\u001b[0m \u001b[38;5;28;01mraise\u001b[39;00m app_exc\n",
      "\u001b[1;31mDocumentPortalException\u001b[0m: \n            Error in [C:\\Users\\cloud\\AppData\\Local\\Temp\\ipykernel_93404\\3402926568.py] at line [21]\n            Message: division by zero\n            Traceback (most recent call last):\n  File \"C:\\Users\\cloud\\AppData\\Local\\Temp\\ipykernel_93404\\3402926568.py\", line 21, in <module>\n    a = 1 / 0 # simulate a zero division exception\nZeroDivisionError: division by zero\n\n        "
     ]
    }
   ],
   "source": [
    "class DocumentPortalException(Exception):\n",
    "    \"\"\"\n",
    "    Customer exception for Document Portal Application\n",
    "    \"\"\"\n",
    "    def __init__(self, error_message, error_detail:sys):\n",
    "        # Capture the traceback \n",
    "        _,_,exc_tb = error_detail.exc_info()\n",
    "        self.file_name = exc_tb.tb_frame.f_code.co_filename # Fetch the filename where the error occurred\n",
    "        self.lineno = exc_tb.tb_lineno # Fetch the line number in the file where the error occurred\n",
    "        self.error_message = str(error_message) \n",
    "        self.traceback_str = ''.join(traceback.format_exception(*error_detail.exc_info())) # Capture full traceback details\n",
    "    def __str__(self):\n",
    "        return f\"\"\"\n",
    "            Error in [{self.file_name}] at line [{self.lineno}]\n",
    "            Message: {self.error_message}\n",
    "            {self.traceback_str}\n",
    "        \"\"\"\n",
    "\n",
    "if __name__ == \"__main__\":\n",
    "    try:\n",
    "        a = 1 / 0 # simulate a zero division exception\n",
    "    except Exception as e:\n",
    "        app_exc = DocumentPortalException(e,sys)\n",
    "        logger.error(app_exc)\n",
    "\n",
    "        raise app_exc"
   ]
  },
  {
   "cell_type": "code",
   "execution_count": null,
   "id": "8a13c2c9",
   "metadata": {},
   "outputs": [],
   "source": []
  }
 ],
 "metadata": {
  "kernelspec": {
   "display_name": "docportal-env",
   "language": "python",
   "name": "python3"
  },
  "language_info": {
   "codemirror_mode": {
    "name": "ipython",
    "version": 3
   },
   "file_extension": ".py",
   "mimetype": "text/x-python",
   "name": "python",
   "nbconvert_exporter": "python",
   "pygments_lexer": "ipython3",
   "version": "3.10.11"
  }
 },
 "nbformat": 4,
 "nbformat_minor": 5
}
