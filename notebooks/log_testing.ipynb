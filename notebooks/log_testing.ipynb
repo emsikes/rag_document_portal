{
 "cells": [
  {
   "cell_type": "code",
   "execution_count": 1,
   "id": "e881ce11",
   "metadata": {},
   "outputs": [],
   "source": [
    "import logging\n",
    "import os\n",
    "from datetime import datetime\n",
    "import structlog"
   ]
  },
  {
   "cell_type": "code",
   "execution_count": 2,
   "id": "3af7b2a9",
   "metadata": {},
   "outputs": [],
   "source": [
    "logs_dir = os.path.join(os.getcwd(),\"logs\")"
   ]
  },
  {
   "cell_type": "code",
   "execution_count": 3,
   "id": "242a8c22",
   "metadata": {},
   "outputs": [],
   "source": [
    "os.makedirs(logs_dir, exist_ok=True)"
   ]
  },
  {
   "cell_type": "code",
   "execution_count": 4,
   "id": "05fd7bb3",
   "metadata": {},
   "outputs": [],
   "source": [
    "LOG_FILE = f\"{datetime.now().strftime('%m_%d_%Y_%H.%M.%S')}.log\""
   ]
  },
  {
   "cell_type": "code",
   "execution_count": 12,
   "id": "b47c9746",
   "metadata": {},
   "outputs": [
    {
     "data": {
      "text/plain": [
       "'07_31_2025_09:09:11.log'"
      ]
     },
     "execution_count": 12,
     "metadata": {},
     "output_type": "execute_result"
    }
   ],
   "source": [
    "LOG_FILE"
   ]
  },
  {
   "cell_type": "code",
   "execution_count": 5,
   "id": "0103f32f",
   "metadata": {},
   "outputs": [],
   "source": [
    "LOG_FILE_PATH = os.path.join(logs_dir, LOG_FILE)"
   ]
  },
  {
   "cell_type": "code",
   "execution_count": 16,
   "id": "ee6dc55d",
   "metadata": {},
   "outputs": [
    {
     "data": {
      "text/plain": [
       "'c:\\\\Users\\\\cloud\\\\Documents\\\\projects\\\\llm-ops\\\\code\\\\document_portal\\\\notebooks\\\\logs\\\\07_31_2025_09:09:11.log'"
      ]
     },
     "execution_count": 16,
     "metadata": {},
     "output_type": "execute_result"
    }
   ],
   "source": [
    "LOG_FILE_PATH"
   ]
  },
  {
   "cell_type": "code",
   "execution_count": 9,
   "id": "091fc8db",
   "metadata": {},
   "outputs": [],
   "source": [
    "logging.basicConfig(\n",
    "    filename=LOG_FILE_PATH,\n",
    "    filemode='a',\n",
    "    format=\"[%(asctime)s] - %(levelname)s %(name)s - (line:%(lineno)d) - %(message)s\",\n",
    "    level=logging.INFO,\n",
    ")"
   ]
  },
  {
   "cell_type": "code",
   "execution_count": 11,
   "id": "43c2934c",
   "metadata": {},
   "outputs": [],
   "source": [
    "logger = logging.getLogger(\"DocumentPortal\")"
   ]
  },
  {
   "cell_type": "code",
   "execution_count": 12,
   "id": "5f755f09",
   "metadata": {},
   "outputs": [],
   "source": [
    "logger.info(\"Test message\")"
   ]
  },
  {
   "cell_type": "code",
   "execution_count": 2,
   "id": "79af40dc",
   "metadata": {},
   "outputs": [],
   "source": [
    "logger = structlog.get_logger()"
   ]
  },
  {
   "cell_type": "code",
   "execution_count": 3,
   "id": "c82beda2",
   "metadata": {},
   "outputs": [
    {
     "name": "stdout",
     "output_type": "stream",
     "text": [
      "2025-08-02 07:57:32 [info     ] User uploaded a file           filename=somefile.pds user_id=123\n"
     ]
    }
   ],
   "source": [
    "logger.info(\"User uploaded a file\", user_id=123, filename=\"somefile.pds\")"
   ]
  },
  {
   "cell_type": "code",
   "execution_count": null,
   "id": "024bdcf2",
   "metadata": {},
   "outputs": [],
   "source": []
  }
 ],
 "metadata": {
  "kernelspec": {
   "display_name": "docportal-env",
   "language": "python",
   "name": "python3"
  },
  "language_info": {
   "codemirror_mode": {
    "name": "ipython",
    "version": 3
   },
   "file_extension": ".py",
   "mimetype": "text/x-python",
   "name": "python",
   "nbconvert_exporter": "python",
   "pygments_lexer": "ipython3",
   "version": "3.10.11"
  }
 },
 "nbformat": 4,
 "nbformat_minor": 5
}
