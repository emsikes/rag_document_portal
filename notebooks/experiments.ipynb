{
 "cells": [
  {
   "cell_type": "code",
   "execution_count": 9,
   "id": "6139c095",
   "metadata": {},
   "outputs": [],
   "source": [
    "import pandas as pd\n",
    "import numpy as np\n",
    "\n",
    "from dotenv import load_dotenv\n",
    "import os\n",
    "\n",
    "from langchain_groq import ChatGroq\n",
    "from langchain_openai import OpenAIEmbeddings\n"
   ]
  },
  {
   "cell_type": "code",
   "execution_count": 8,
   "id": "d3a58f1e",
   "metadata": {},
   "outputs": [],
   "source": [
    "load_dotenv()\n",
    "openai_api_key = os.getenv(\"OPENAI_API_KEY\")"
   ]
  },
  {
   "cell_type": "code",
   "execution_count": 10,
   "id": "b0e99feb",
   "metadata": {},
   "outputs": [],
   "source": [
    "\n",
    "\n",
    "embeddings = OpenAIEmbeddings(\n",
    "    model=\"text-embedding-3-large\"\n",
    ")"
   ]
  },
  {
   "cell_type": "code",
   "execution_count": 4,
   "id": "2ba40ef3",
   "metadata": {},
   "outputs": [],
   "source": [
    "model=ChatGroq(model=\"llama-3.1-8b-instant\")"
   ]
  },
  {
   "cell_type": "code",
   "execution_count": 5,
   "id": "63484c40",
   "metadata": {},
   "outputs": [
    {
     "data": {
      "text/plain": [
       "'There is no single \"best\" programming language for data science, as it often depends on the specific task, the type of data, and personal preference. However, some languages are more popular and widely used in the data science community than others.\\n\\n**Top programming languages for data science:**\\n\\n1. **Python**: Python is the most popular language for data science, and for good reason. It has a vast array of libraries and tools, including:\\n\\t* NumPy and pandas for data manipulation and analysis\\n\\t* Matplotlib and Seaborn for data visualization\\n\\t* Scikit-learn for machine learning\\n\\t* TensorFlow and Keras for deep learning\\n\\t* Pandas, NumPy, and SciPy for data analysis\\n2. **R**: R is another popular language for data science, particularly in academia and research. It\\'s known for its:\\n\\t* Data manipulation and analysis libraries (e.g., dplyr, tidyr)\\n\\t* Data visualization libraries (e.g., ggplot2, Shiny)\\n\\t* Machine learning libraries (e.g., caret, dplyr)\\n3. **Julia**: Julia is a newer language that\\'s gaining popularity in the data science community. It\\'s known for its:\\n\\t* High-performance capabilities\\n\\t* Dynamic typing\\n\\t* Large standard library (e.g., MLJ, MLDataPattern)\\n4. **SQL**: SQL is a language for managing and analyzing relational databases. It\\'s essential for data science, as many datasets are stored in relational databases.\\n\\n**Other notable mentions:**\\n\\n1. **Java**: Java is a popular language for data science, particularly in industry and enterprise settings.\\n2. **Scala**: Scala is a language for building scalable, concurrent, and parallel applications.\\n3. **C++**: C++ is a low-level language that\\'s often used for building high-performance applications.\\n\\n**Choosing the right language:**\\n\\nWhen choosing a language for data science, consider the following factors:\\n\\n1. **Your goal**: What do you want to achieve with your project? (e.g., data analysis, machine learning, data visualization)\\n2. **Your experience**: What languages are you already familiar with?\\n3. **The type of data**: What type of data are you working with? (e.g., numerical, categorical, time series)\\n4. **The tools and libraries**: What tools and libraries are available for your chosen language?\\n5. **The community**: What kind of community support is available for your chosen language?\\n\\nUltimately, the best language for data science is the one that you\\'re most comfortable with and that allows you to achieve your goals efficiently.'"
      ]
     },
     "execution_count": 5,
     "metadata": {},
     "output_type": "execute_result"
    }
   ],
   "source": [
    "model.invoke(\"What is the best programming langauge for data science?\").content"
   ]
  },
  {
   "cell_type": "code",
   "execution_count": null,
   "id": "b6c7f7b3",
   "metadata": {},
   "outputs": [],
   "source": []
  }
 ],
 "metadata": {
  "kernelspec": {
   "display_name": "docportal-env",
   "language": "python",
   "name": "python3"
  },
  "language_info": {
   "codemirror_mode": {
    "name": "ipython",
    "version": 3
   },
   "file_extension": ".py",
   "mimetype": "text/x-python",
   "name": "python",
   "nbconvert_exporter": "python",
   "pygments_lexer": "ipython3",
   "version": "3.10.11"
  }
 },
 "nbformat": 4,
 "nbformat_minor": 5
}
